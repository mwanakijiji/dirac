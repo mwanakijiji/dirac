{
 "cells": [
  {
   "cell_type": "code",
   "execution_count": 1,
   "metadata": {},
   "outputs": [],
   "source": [
    "# Makes bad pixel mask for AB Aur data\n",
    "\n",
    "# Created by E.S., 2018 October"
   ]
  },
  {
   "cell_type": "code",
   "execution_count": 1,
   "metadata": {},
   "outputs": [],
   "source": [
    "import matplotlib\n",
    "import matplotlib.pyplot as plt\n",
    "import numpy as np\n",
    "import pandas as pd\n",
    "from astropy.io import fits\n",
    "#import sys\n",
    "import glob, os\n",
    "%matplotlib qt"
   ]
  },
  {
   "cell_type": "code",
   "execution_count": 3,
   "metadata": {},
   "outputs": [],
   "source": [
    "# read in sample frame\n",
    "\n",
    "stem = '/Users/bandari/Documents/git.repos/dirac/vtp_scripts_data/nirao_09_dark_current/data/'\n",
    "file_name = 'tests_junk_13may/pos1_selected_cold_target_not_cold/10sec.fits'\n",
    "\n",
    "hdul = fits.open(stem + file_name)\n",
    "sample_frame = hdul[0].data\n",
    "\n",
    "# make bad pix canvas (0: good; 1: bad)\n",
    "bad_pix_frame = np.zeros(sample_frame.shape, dtype=int)"
   ]
  },
  {
   "cell_type": "code",
   "execution_count": 4,
   "metadata": {},
   "outputs": [],
   "source": [
    "# mask overscan region\n",
    "bad_pix_frame[:,0:4] = 1\n",
    "bad_pix_frame[:,-4:] = 1\n",
    "bad_pix_frame[0:4,:] = 1\n",
    "bad_pix_frame[-4:,:] = 1"
   ]
  },
  {
   "cell_type": "code",
   "execution_count": 12,
   "metadata": {},
   "outputs": [],
   "source": [
    "plt.imshow(bad_pix_frame)\n",
    "plt.show()"
   ]
  },
  {
   "cell_type": "code",
   "execution_count": 5,
   "metadata": {},
   "outputs": [],
   "source": [
    "fits.writeto(stem + 'junk_bad_pix.fits', bad_pix_frame, overwrite=True)\n"
   ]
  },
  {
   "cell_type": "code",
   "execution_count": 6,
   "metadata": {},
   "outputs": [
    {
     "data": {
      "text/plain": [
       "16320"
      ]
     },
     "execution_count": 6,
     "metadata": {},
     "output_type": "execute_result"
    }
   ],
   "source": [
    "np.nansum(bad_pix_frame)"
   ]
  },
  {
   "cell_type": "code",
   "execution_count": 16,
   "metadata": {},
   "outputs": [
    {
     "name": "stdout",
     "output_type": "stream",
     "text": [
      "/Users/bandari/Documents/git.repos/dirac/data/nirao_09_dark_current/tests_junk_13may/pos1_selected_cold_target_not_cold/junk_bad_pix.fits\n"
     ]
    }
   ],
   "source": [
    "print(stem + 'junk_bad_pix.fits')"
   ]
  },
  {
   "cell_type": "code",
   "execution_count": 3,
   "metadata": {},
   "outputs": [],
   "source": [
    "#stem = '/Users/bandari/Documents/git.repos/hd_141569/overview_data/'\n",
    "#stem_read = '/Volumes/One Touch/abaur_data/00_slope_frames/' # read the slope frames\n",
    "#stem_write = '/Volumes/One Touch/abaur_data/calib_frames/'\n",
    "\n",
    "dir_calib_frames = '/Volumes/One Touch/abaur_data/calib_frames/'\n",
    "dir_dark_subted = '/Volumes/One Touch/abaur_data/01_dark_subtracted/'"
   ]
  },
  {
   "cell_type": "code",
   "execution_count": 4,
   "metadata": {},
   "outputs": [
    {
     "name": "stdout",
     "output_type": "stream",
     "text": [
      "lm_190108_014288.fits\n",
      "lm_190108_014289.fits\n",
      "lm_190108_014290.fits\n",
      "lm_190108_014291.fits\n",
      "lm_190108_014292.fits\n",
      "lm_190108_014293.fits\n",
      "lm_190108_014294.fits\n",
      "lm_190108_014295.fits\n",
      "lm_190108_014296.fits\n",
      "lm_190108_014297.fits\n",
      "lm_190108_014298.fits\n",
      "lm_190108_014299.fits\n",
      "lm_190108_014300.fits\n",
      "lm_190108_014301.fits\n",
      "lm_190108_014302.fits\n",
      "lm_190108_014303.fits\n",
      "lm_190108_014304.fits\n",
      "lm_190108_014305.fits\n",
      "lm_190108_014306.fits\n",
      "lm_190108_014307.fits\n",
      "lm_190108_014308.fits\n",
      "lm_190108_014309.fits\n",
      "lm_190108_014310.fits\n",
      "lm_190108_014311.fits\n",
      "lm_190108_014312.fits\n",
      "lm_190108_014313.fits\n",
      "lm_190108_014314.fits\n",
      "lm_190108_014315.fits\n",
      "lm_190108_014316.fits\n",
      "lm_190108_014317.fits\n",
      "lm_190108_014318.fits\n",
      "lm_190108_014319.fits\n",
      "lm_190108_014320.fits\n",
      "lm_190108_014321.fits\n",
      "lm_190108_014322.fits\n",
      "lm_190108_014323.fits\n",
      "lm_190108_014324.fits\n",
      "lm_190108_014325.fits\n",
      "lm_190108_014326.fits\n",
      "lm_190108_014327.fits\n",
      "lm_190108_014328.fits\n",
      "lm_190108_014329.fits\n",
      "lm_190108_014330.fits\n",
      "lm_190108_014331.fits\n",
      "lm_190108_014332.fits\n",
      "lm_190108_014333.fits\n",
      "lm_190108_014334.fits\n",
      "lm_190108_014335.fits\n",
      "lm_190108_014336.fits\n",
      "lm_190108_014337.fits\n",
      "lm_190108_014338.fits\n",
      "lm_190108_014339.fits\n",
      "lm_190108_014340.fits\n",
      "lm_190108_014341.fits\n",
      "lm_190108_014342.fits\n",
      "lm_190108_014343.fits\n",
      "lm_190108_014344.fits\n",
      "lm_190108_014345.fits\n",
      "lm_190108_014346.fits\n",
      "lm_190108_014347.fits\n",
      "lm_190108_014348.fits\n",
      "lm_190108_014349.fits\n",
      "lm_190108_014350.fits\n",
      "lm_190108_014351.fits\n",
      "lm_190108_014352.fits\n",
      "lm_190108_014353.fits\n",
      "lm_190108_014354.fits\n",
      "lm_190108_014355.fits\n",
      "lm_190108_014356.fits\n",
      "lm_190108_014357.fits\n",
      "lm_190108_014358.fits\n",
      "lm_190108_014359.fits\n",
      "lm_190108_014360.fits\n",
      "lm_190108_014361.fits\n",
      "lm_190108_014362.fits\n",
      "lm_190108_014363.fits\n",
      "lm_190108_014364.fits\n",
      "lm_190108_014365.fits\n",
      "lm_190108_014366.fits\n",
      "lm_190108_014367.fits\n",
      "lm_190108_014368.fits\n",
      "lm_190108_014369.fits\n",
      "lm_190108_014370.fits\n",
      "lm_190108_014371.fits\n",
      "lm_190108_014372.fits\n",
      "lm_190108_014373.fits\n",
      "lm_190108_014374.fits\n",
      "lm_190108_014375.fits\n",
      "lm_190108_014376.fits\n",
      "lm_190108_014377.fits\n",
      "lm_190108_014378.fits\n",
      "lm_190108_014379.fits\n",
      "lm_190108_014380.fits\n",
      "lm_190108_014381.fits\n",
      "lm_190108_014382.fits\n",
      "lm_190108_014383.fits\n",
      "lm_190108_014384.fits\n",
      "lm_190108_014385.fits\n",
      "lm_190108_014386.fits\n",
      "lm_190108_014387.fits\n",
      "lm_190108_014388.fits\n",
      "lm_190108_014389.fits\n",
      "lm_190108_014390.fits\n",
      "lm_190108_014391.fits\n",
      "lm_190108_014392.fits\n",
      "lm_190108_014393.fits\n",
      "lm_190108_014394.fits\n",
      "lm_190108_014395.fits\n",
      "lm_190108_014396.fits\n",
      "lm_190108_014397.fits\n",
      "lm_190108_014398.fits\n",
      "lm_190108_014399.fits\n",
      "lm_190108_014400.fits\n",
      "lm_190108_014401.fits\n",
      "lm_190108_014402.fits\n",
      "lm_190108_014403.fits\n",
      "lm_190108_014404.fits\n",
      "lm_190108_014405.fits\n",
      "lm_190108_014406.fits\n",
      "lm_190108_014407.fits\n",
      "lm_190108_014408.fits\n",
      "lm_190108_014409.fits\n",
      "lm_190108_014410.fits\n",
      "lm_190108_014411.fits\n",
      "lm_190108_014412.fits\n",
      "lm_190108_014413.fits\n",
      "lm_190108_014414.fits\n",
      "lm_190108_014415.fits\n",
      "lm_190108_014416.fits\n",
      "lm_190108_014417.fits\n",
      "lm_190108_014418.fits\n",
      "lm_190108_014419.fits\n",
      "lm_190108_014420.fits\n",
      "lm_190108_014421.fits\n",
      "lm_190108_014422.fits\n",
      "lm_190108_014423.fits\n",
      "lm_190108_014424.fits\n",
      "lm_190108_014425.fits\n",
      "lm_190108_014426.fits\n",
      "lm_190108_014427.fits\n",
      "lm_190108_014428.fits\n",
      "lm_190108_014429.fits\n",
      "lm_190108_014430.fits\n",
      "lm_190108_014431.fits\n",
      "lm_190108_014432.fits\n",
      "lm_190108_014433.fits\n",
      "lm_190108_014434.fits\n",
      "lm_190108_014435.fits\n",
      "lm_190108_014436.fits\n",
      "lm_190108_014437.fits\n"
     ]
    }
   ],
   "source": [
    "# to check for variation in pixel responses\n",
    "\n",
    "# darks are frames 14288 to 14437\n",
    "nums_of_interest = np.arange(14288,14438,1)\n",
    "\n",
    "cube_dark_slopes = np.zeros((len(nums_of_interest),1024,2048))\n",
    "\n",
    "# put individual dark slope frames into cube\n",
    "# bad pixels are where variations are highest \n",
    "for i in range(0,len(nums_of_interest)):\n",
    "\n",
    "    file_basename = 'lm_190108_0' + str(int(nums_of_interest[i])) + '.fits'\n",
    "    #file_basename = 'lm_190108_0' + str(13000) + '.fits'\n",
    "\n",
    "    print(file_basename)\n",
    "                                         \n",
    "    hdul = fits.open(dir_dark_subted + file_basename)\n",
    "\n",
    "    frame_this = hdul[0].data\n",
    "\n",
    "    # one entire channel is bad; mask this\n",
    "    frame_this[:,14*64:15*64] = np.nan\n",
    "\n",
    "    hdul = fits.open(dir_dark_subted + file_basename)            \n",
    "    cube_dark_slopes[i,:,:] = frame_this\n",
    "                                         \n",
    "    "
   ]
  },
  {
   "cell_type": "code",
   "execution_count": 27,
   "metadata": {},
   "outputs": [],
   "source": [
    "#fits.writeto('junk.fits', cube_dark_slopes, overwrite=True)"
   ]
  },
  {
   "cell_type": "code",
   "execution_count": 5,
   "metadata": {},
   "outputs": [],
   "source": [
    "# find variation in pixels\n",
    "sorted_stds = np.sort(np.ndarray.flatten(np.std(cube_dark_slopes, axis=0)))\n",
    "\n",
    "std_frame = np.std(cube_dark_slopes, axis=0)\n",
    "\n",
    "#plt.plot(sorted_stds)\n",
    "#plt.show()\n"
   ]
  },
  {
   "cell_type": "code",
   "execution_count": 6,
   "metadata": {},
   "outputs": [],
   "source": [
    "plt.imshow(std_frame)\n",
    "plt.show()"
   ]
  },
  {
   "cell_type": "code",
   "execution_count": 7,
   "metadata": {},
   "outputs": [],
   "source": [
    "# read in master dark\n",
    "hdul_master = fits.open(dir_calib_frames + 'master_dark_slopes.fits') \n",
    "master_dark = hdul[0].data\n",
    "\n",
    "# one entire channel is bad; mask this\n",
    "master_dark[:,14*64:15*64] = np.nan\n",
    "\n",
    "sorted_vals = np.sort(np.ndarray.flatten(master_dark))"
   ]
  },
  {
   "cell_type": "code",
   "execution_count": 8,
   "metadata": {},
   "outputs": [],
   "source": [
    "# show pixels based on criterion\n",
    "\n",
    "lower_limit = -11\n",
    "upper_limit = 10\n",
    "\n",
    "test_mask = np.zeros(np.shape(master_dark))\n",
    "#test_mask[frame_this > lower_limit] = 1\n",
    "test_mask[np.logical_and(master_dark > lower_limit, master_dark < upper_limit)] = 1\n",
    "\n",
    "plt.clf()\n",
    "plt.imshow(test_mask, origin='lower')\n",
    "plt.show()\n"
   ]
  },
  {
   "cell_type": "code",
   "execution_count": 9,
   "metadata": {},
   "outputs": [],
   "source": [
    "# make the bad pixel mask\n",
    "# first step is to assign 'True' to every pixel which is bad, and write as array of ints\n",
    "\n",
    "# Criterion 1: where are hot and cold pixels?\n",
    "cold_limit = -11\n",
    "hot_limit = 10\n",
    "substrate_mask = np.full(np.shape(master_dark), False)\n",
    "substrate_mask[np.logical_or(master_dark < cold_limit, master_dark > hot_limit)] = True\n",
    "\n",
    "# Criterion 2: Mask an entire bad column\n",
    "substrate_mask[:,14*64:15*64] = True\n",
    "\n",
    "# Criterion 3: Where is variation highest?\n",
    "noise_limit = 7 # 7\n",
    "dead_limit = 1.5\n",
    "substrate_mask[np.logical_or(std_frame < dead_limit, std_frame > noise_limit)] = True\n",
    "\n",
    "# write to file as ints\n",
    "# 1: bad\n",
    "# 0: good\n",
    "fits.writeto('junk.fits', substrate_mask.astype(int), overwrite=True)"
   ]
  },
  {
   "cell_type": "code",
   "execution_count": 83,
   "metadata": {},
   "outputs": [],
   "source": [
    "from astropy.io import fits\n",
    "# take first version of bad pixel mask, read in an illuminated frame, and flag dark pixels (dust)\n",
    "\n",
    "file_path_badpix_v1 = '/Volumes/One Touch/abaur_data/calib_frames/master_bad_pix.fits'\n",
    "hdul_bad_v1 = fits.open(file_path_badpix_v1)\n",
    "bad_v1 = hdul_bad_v1[0].data\n",
    "hdul_bad_v1.close()\n",
    "\n",
    "# read in 4 illuminated frames with the Lcont4 filter; those with consistent dark pixels are likely dust\n",
    "# (Lcont4 filter much dustier than the H2O-Ice2 filter)\n",
    "file_path_illuminated_1 = '/Volumes/One Touch/abaur_data/03_ramp_removed/lm_190108_001424.fits'\n",
    "file_path_illuminated_2 = '/Volumes/One Touch/abaur_data/03_ramp_removed/lm_190108_003533.fits'\n",
    "file_path_illuminated_3 = '/Volumes/One Touch/abaur_data/03_ramp_removed/lm_190108_007076.fits'\n",
    "file_path_illuminated_4 = '/Volumes/One Touch/abaur_data/03_ramp_removed/lm_190108_011436.fits'\n",
    "hdul_illum_1 = fits.open(file_path_illuminated_1)\n",
    "hdul_illum_2 = fits.open(file_path_illuminated_2)\n",
    "hdul_illum_3 = fits.open(file_path_illuminated_3)\n",
    "hdul_illum_4 = fits.open(file_path_illuminated_4)\n",
    "illum_1 = hdul_illum_1[0].data\n",
    "illum_2 = hdul_illum_2[0].data\n",
    "illum_3 = hdul_illum_3[0].data\n",
    "illum_4 = hdul_illum_4[0].data\n",
    "hdul_illum_1.close()\n",
    "hdul_illum_2.close()\n",
    "hdul_illum_3.close()\n",
    "hdul_illum_4.close()\n"
   ]
  },
  {
   "cell_type": "code",
   "execution_count": null,
   "metadata": {},
   "outputs": [],
   "source": []
  },
  {
   "cell_type": "code",
   "execution_count": 79,
   "metadata": {},
   "outputs": [
    {
     "data": {
      "text/plain": [
       "'\\nillum_1[illum_1<dividing_line_1] = 1\\nillum_1[illum_1>dividing_line_1] = 0\\n\\nillum_2[illum_2<dividing_line_2] = 1\\nillum_2[illum_2>dividing_line_2] = 0\\n\\nillum_3[illum_3<dividing_line_3] = 1\\nillum_3[illum_3>dividing_line_3] = 0\\n\\nillum_4[illum_4<dividing_line_4] = 1\\nillum_4[illum_4>dividing_line_4] = 0\\n'"
      ]
     },
     "execution_count": 79,
     "metadata": {},
     "output_type": "execute_result"
    }
   ],
   "source": [
    "# flag dark pixels\n",
    "\n",
    "dividing_line_1 = 10\n",
    "dividing_line_2 = -3\n",
    "dividing_line_3 = -2\n",
    "dividing_line_4 = -1\n",
    "\n",
    "'''\n",
    "illum_1[illum_1<dividing_line_1] = 1\n",
    "illum_1[illum_1>dividing_line_1] = 0\n",
    "\n",
    "illum_2[illum_2<dividing_line_2] = 1\n",
    "illum_2[illum_2>dividing_line_2] = 0\n",
    "\n",
    "illum_3[illum_3<dividing_line_3] = 1\n",
    "illum_3[illum_3>dividing_line_3] = 0\n",
    "\n",
    "illum_4[illum_4<dividing_line_4] = 1\n",
    "illum_4[illum_4>dividing_line_4] = 0\n",
    "'''"
   ]
  },
  {
   "cell_type": "code",
   "execution_count": 40,
   "metadata": {},
   "outputs": [],
   "source": [
    "# Write illum_1 as a FITS file\n",
    "fits.writeto('junk_illum_1.fits', illum_1, overwrite=True)\n",
    "\n",
    "# Write illum_2 as a FITS file\n",
    "fits.writeto('junk_illum_2.fits', illum_2, overwrite=True)\n",
    "\n",
    "# Write illum_3 as a FITS file\n",
    "fits.writeto('junk_illum_3.fits', illum_3, overwrite=True)\n",
    "\n",
    "# Write illum_4 as a FITS file\n",
    "fits.writeto('junk_illum_4.fits', illum_4, overwrite=True)\n"
   ]
  },
  {
   "cell_type": "code",
   "execution_count": 34,
   "metadata": {},
   "outputs": [],
   "source": [
    "illum_sum = np.add(illum_1, np.add(illum_2, np.add(illum_3, illum_4)))\n"
   ]
  },
  {
   "cell_type": "code",
   "execution_count": 38,
   "metadata": {},
   "outputs": [
    {
     "name": "stdout",
     "output_type": "stream",
     "text": [
      "0.0\n"
     ]
    }
   ],
   "source": [
    "print(np.nanmin(illum_sum))"
   ]
  },
  {
   "cell_type": "code",
   "execution_count": 60,
   "metadata": {},
   "outputs": [],
   "source": [
    "#plt.imshow(illum_1, origin='lower')\n",
    "#illum_2[illum_2<-4] = 1\n",
    "#illum_2[illum_2>-4] = np.nan\n",
    "plt.imshow(illum_2, origin='lower', vmin=-20, vmax=20)\n",
    "plt.show()"
   ]
  },
  {
   "cell_type": "code",
   "execution_count": 63,
   "metadata": {},
   "outputs": [],
   "source": [
    "plt.imshow(illum_2<-4, origin='lower')\n",
    "plt.show()"
   ]
  },
  {
   "cell_type": "code",
   "execution_count": 89,
   "metadata": {},
   "outputs": [],
   "source": [
    "# where condition is true in all four frames\n",
    "\n",
    "dividing_line_1 = 10\n",
    "dividing_line_2 = -3\n",
    "dividing_line_3 = -2\n",
    "dividing_line_4 = -1\n",
    "\n",
    "frame_all_true = np.logical_and(np.logical_and(illum_1<dividing_line_1,illum_2<dividing_line_2),\n",
    "                        np.logical_and(illum_3<dividing_line_3,illum_4<dividing_line_4))\n",
    "\n",
    "#frame_all_true = np.logical_and(illum_1<dividing_line_1,illum_2<dividing_line_2)\n",
    "#frame_all_true = np.logical_and(illum_2<dividing_line_2,np.logical_and(illum_3<dividing_line_3,illum_4<dividing_line_4))\n",
    "\n",
    "plt.imshow(frame_all_true, origin='lower')\n",
    "plt.show()"
   ]
  },
  {
   "cell_type": "code",
   "execution_count": 91,
   "metadata": {},
   "outputs": [],
   "source": [
    "# Write frame_all_true as a FITS file\n",
    "fits.writeto('junk_frame_all_true.fits', frame_all_true.astype(int), overwrite=True)\n"
   ]
  },
  {
   "cell_type": "code",
   "execution_count": 114,
   "metadata": {},
   "outputs": [],
   "source": [
    "from astropy.io import fits\n",
    "# Read in the bad pixel mask, and the dust mask, and combine them\n",
    "file_name_badpix = '/Volumes/One Touch/abaur_data/calib_frames/master_bad_pix.fits'\n",
    "file_name_dust = '/Volumes/One Touch/abaur_data/calib_frames/master_dust_frame.fits'\n",
    "hdul_badpix = fits.open(file_name_badpix)\n",
    "hdul_dust = fits.open(file_name_dust)\n",
    "\n",
    "# 0: good; 1: bad\n",
    "bad_sum = np.add(hdul_badpix[0].data, hdul_dust[0].data)\n",
    "bad_sum[bad_sum > 0] = 1\n",
    "\n",
    "# Write bad_pix + dust to file\n",
    "fits.writeto('junk.fits', bad_sum, overwrite=True)\n",
    "\n"
   ]
  },
  {
   "cell_type": "code",
   "execution_count": 16,
   "metadata": {},
   "outputs": [],
   "source": [
    "# read in two pairs of frames (one pair for each nod position) and flag the pixels that \n",
    "# are hot in both from each nod\n",
    "\n",
    "frame_up_1 = fits.open('./hot_4473.fits')[0].data\n",
    "frame_up_2 = fits.open('./hot_4580.fits')[0].data\n",
    "frame_down_1 = fits.open('./hot_7976.fits')[0].data\n",
    "frame_down_2 = fits.open('./hot_8126.fits')[0].data\n",
    "\n",
    "\n",
    "hot_up = np.logical_and(frame_up_1 == 1, frame_up_2 == 1)\n",
    "hot_down = np.logical_and(frame_down_1 == 1, frame_down_2 == 1)\n",
    "\n",
    "hot_up_and_down = np.logical_or(hot_up,hot_down)\n"
   ]
  },
  {
   "cell_type": "code",
   "execution_count": 9,
   "metadata": {},
   "outputs": [
    {
     "data": {
      "text/plain": [
       "array([[False, False, False, ..., False, False, False],\n",
       "       [False, False, False, ..., False, False, False],\n",
       "       [False, False, False, ..., False, False, False],\n",
       "       ...,\n",
       "       [False, False, False, ..., False, False, False],\n",
       "       [False, False, False, ..., False, False, False],\n",
       "       [False, False, False, ..., False, False, False]])"
      ]
     },
     "execution_count": 9,
     "metadata": {},
     "output_type": "execute_result"
    }
   ],
   "source": [
    "np.logical_and(frame_up_1 == 1, frame_up_2 == 1)"
   ]
  },
  {
   "cell_type": "code",
   "execution_count": 17,
   "metadata": {},
   "outputs": [],
   "source": [
    "plt.imshow(hot_up_and_down)\n",
    "plt.show()"
   ]
  },
  {
   "cell_type": "code",
   "execution_count": 14,
   "metadata": {},
   "outputs": [
    {
     "data": {
      "text/plain": [
       "2148"
      ]
     },
     "execution_count": 14,
     "metadata": {},
     "output_type": "execute_result"
    }
   ],
   "source": [
    "np.sum(hot_up)"
   ]
  },
  {
   "cell_type": "code",
   "execution_count": 20,
   "metadata": {},
   "outputs": [],
   "source": [
    "from astropy.io import fits\n",
    "# Read in a bad pixel mask and add some more hot pixels\n",
    "file_name_badpix = '/Volumes/One Touch/abaur_data/calib_frames/master_bad_pix_plus_dust.fits'\n",
    "hdul_badpix = fits.open(file_name_badpix)\n",
    "\n",
    "# 0: good; 1: bad\n",
    "bad_sum = np.add(hdul_badpix[0].data, hot_up_and_down)\n",
    "bad_sum[bad_sum > 0] = 1\n",
    "\n",
    "# Write bad_pix + dust to file\n",
    "fits.writeto('junk.fits', bad_sum, overwrite=True)\n",
    "\n",
    "#fits.writeto('junk2.fits', hot_up_and_down.astype(int), overwrite=True)\n",
    "\n"
   ]
  },
  {
   "cell_type": "code",
   "execution_count": 108,
   "metadata": {},
   "outputs": [
    {
     "data": {
      "text/plain": [
       "(1024, 2048)"
      ]
     },
     "execution_count": 108,
     "metadata": {},
     "output_type": "execute_result"
    }
   ],
   "source": [
    "np.shape(np.add(hdul_badpix[0].data, hdul_dust[0].data))"
   ]
  },
  {
   "cell_type": "code",
   "execution_count": 98,
   "metadata": {},
   "outputs": [
    {
     "data": {
      "text/plain": [
       "numpy.int64"
      ]
     },
     "execution_count": 98,
     "metadata": {},
     "output_type": "execute_result"
    }
   ],
   "source": [
    "type(hdul_dust[0].data[0,0])"
   ]
  },
  {
   "cell_type": "code",
   "execution_count": 113,
   "metadata": {},
   "outputs": [],
   "source": [
    "plt.imshow(bad_sum, origin='lower')\n",
    "plt.show()"
   ]
  },
  {
   "cell_type": "code",
   "execution_count": 6,
   "metadata": {},
   "outputs": [],
   "source": [
    "# cast to ints\n",
    "#cube_flat_slopes = cube_flat_slopes.astype(int)\n",
    "\n",
    "# write mean to file (note that the mean operation makes the data go from its to floats)\n",
    "master_dark = np.mean(cube_flat_slopes, axis=0)\n",
    "\n",
    "fits.writeto(stem_write + 'junk_master_dark.fits', master_dark, overwrite=True)"
   ]
  }
 ],
 "metadata": {
  "kernelspec": {
   "display_name": "Python 3 (ipykernel)",
   "language": "python",
   "name": "python3"
  },
  "language_info": {
   "codemirror_mode": {
    "name": "ipython",
    "version": 3
   },
   "file_extension": ".py",
   "mimetype": "text/x-python",
   "name": "python",
   "nbconvert_exporter": "python",
   "pygments_lexer": "ipython3",
   "version": "3.8.13"
  }
 },
 "nbformat": 4,
 "nbformat_minor": 1
}
