{
 "cells": [
  {
   "cell_type": "code",
   "execution_count": 1,
   "metadata": {},
   "outputs": [],
   "source": [
    "# Makes bad pixel mask for AB Aur data\n",
    "\n",
    "# Created by E.S., 2018 October"
   ]
  },
  {
   "cell_type": "code",
   "execution_count": 1,
   "metadata": {},
   "outputs": [],
   "source": [
    "import matplotlib\n",
    "import matplotlib.pyplot as plt\n",
    "import numpy as np\n",
    "import pandas as pd\n",
    "from astropy.io import fits\n",
    "#import sys\n",
    "import glob, os\n",
    "%matplotlib qt"
   ]
  },
  {
   "cell_type": "code",
   "execution_count": 3,
   "metadata": {},
   "outputs": [],
   "source": [
    "# read in proper motion data from Platais+ 2020\n",
    "\n",
    "stem = '/Users/bandari/Documents/git.repos/dirac/vtp_scripts_data/nirao_12_plate_scales/data/'\n",
    "file_name = 'astrometric_stars.csv'\n",
    "\n",
    "hdul = fits.open(stem + file_name)\n",
    "sample_frame = hdul[0].data\n",
    "\n",
    "# make bad pix canvas (0: good; 1: bad)\n",
    "bad_pix_frame = np.zeros(sample_frame.shape, dtype=int)"
   ]
  }
 ],
 "metadata": {
  "kernelspec": {
   "display_name": "Python 3 (ipykernel)",
   "language": "python",
   "name": "python3"
  },
  "language_info": {
   "codemirror_mode": {
    "name": "ipython",
    "version": 3
   },
   "file_extension": ".py",
   "mimetype": "text/x-python",
   "name": "python",
   "nbconvert_exporter": "python",
   "pygments_lexer": "ipython3",
   "version": "3.8.13"
  }
 },
 "nbformat": 4,
 "nbformat_minor": 1
}
