{
 "cells": [
  {
   "cell_type": "code",
   "execution_count": 1,
   "metadata": {},
   "outputs": [],
   "source": [
    "import matplotlib.pyplot as plt\n",
    "import numpy as np\n",
    "from astropy.io import fits\n",
    "#import logging\n",
    "#import datetime\n",
    "#import glob\n",
    "#from photutils.centroids import centroid_sources, centroid_com\n",
    "#from scipy.optimize import curve_fit\n",
    "import pandas as pd"
   ]
  },
  {
   "cell_type": "code",
   "execution_count": 2,
   "metadata": {},
   "outputs": [],
   "source": [
    "stem = '/Users/bandari/Documents/git.repos/dirac/notebooks/'\n",
    "\n",
    "df = pd.read_csv(stem + 'test_output.csv')\n",
    "\n",
    "# FWHM of TBS is 6 pixels (5.2 micron each in that setup), and camera magnifies the spot projector input by the factor of 2\n",
    "# or 6 pixels * 5.2 um/pix * 2 = 62.4 um\n",
    "# CORRECTION: a best fit to the TBS PSF finds a FWHM of about 4.3\n",
    "\n",
    "# In DIRAC itself, the pixel pitch is 18 um."
   ]
  },
  {
   "cell_type": "code",
   "execution_count": 3,
   "metadata": {},
   "outputs": [],
   "source": [
    "# Make a numpy array that reproduces the TBS PSF, based on the screenshot shared by RZ via email, 12 Apr. 2024\n",
    "\n",
    "psf_tbs = np.array([[4, 4,  4,  4,  4],\n",
    "                    [5, 8,  16, 19, 16],\n",
    "                    [16,43, 79, 80, 52],\n",
    "                    [50, 129, 186, 175, 115],\n",
    "                    [103, 212, 236, 226, 180],\n",
    "                    [132, 236, 233, 216, 195],\n",
    "                    [95, 198, 230, 216, 159],\n",
    "                    [38, 93, 151, 148, 94],\n",
    "                    [12, 25, 47, 48, 31],\n",
    "                    [5, 5, 8, 7, 6],\n",
    "                    [3, 3, 4, 3, 3]]) "
   ]
  },
  {
   "cell_type": "code",
   "execution_count": 6,
   "metadata": {},
   "outputs": [
    {
     "data": {
      "image/png": "[encoded data removed]",
      "text/plain": [
       "<Figure size 640x480 with 1 Axes>"
      ]
     },
     "metadata": {},
     "output_type": "display_data"
    }
   ],
   "source": [
    "plt.imshow(psf_tbs)\n",
    "plt.show()"
   ]
  },
  {
   "cell_type": "code",
   "execution_count": 5,
   "metadata": {},
   "outputs": [
    {
     "data": {
      "text/html": [
       "<div>\n",
       "<style scoped>\n",
       "    .dataframe tbody tr th:only-of-type {\n",
       "        vertical-align: middle;\n",
       "    }\n",
       "\n",
       "    .dataframe tbody tr th {\n",
       "        vertical-align: top;\n",
       "    }\n",
       "\n",
       "    .dataframe thead th {\n",
       "        text-align: right;\n",
       "    }\n",
       "</style>\n",
       "<table border=\"1\" class=\"dataframe\">\n",
       "  <thead>\n",
       "    <tr style=\"text-align: right;\">\n",
       "      <th></th>\n",
       "      <th>spot number</th>\n",
       "      <th>fwhm_x_pix</th>\n",
       "      <th>fwhm_y_pix</th>\n",
       "      <th>x_pos_pix</th>\n",
       "      <th>y_pos_pix</th>\n",
       "      <th>fwhm_tbs_um</th>\n",
       "      <th>fwhm_x_um</th>\n",
       "      <th>fwhm_y_um</th>\n",
       "    </tr>\n",
       "  </thead>\n",
       "  <tbody>\n",
       "    <tr>\n",
       "      <th>0</th>\n",
       "      <td>0.0</td>\n",
       "      <td>3.233162</td>\n",
       "      <td>2.767319</td>\n",
       "      <td>967.767200</td>\n",
       "      <td>89.914630</td>\n",
       "      <td>44.761667</td>\n",
       "      <td>58.196908</td>\n",
       "      <td>49.811749</td>\n",
       "    </tr>\n",
       "    <tr>\n",
       "      <th>1</th>\n",
       "      <td>1.0</td>\n",
       "      <td>3.126663</td>\n",
       "      <td>2.782082</td>\n",
       "      <td>742.533702</td>\n",
       "      <td>91.826000</td>\n",
       "      <td>44.761667</td>\n",
       "      <td>56.279934</td>\n",
       "      <td>50.077476</td>\n",
       "    </tr>\n",
       "    <tr>\n",
       "      <th>2</th>\n",
       "      <td>2.0</td>\n",
       "      <td>3.017860</td>\n",
       "      <td>2.745804</td>\n",
       "      <td>522.066152</td>\n",
       "      <td>93.428040</td>\n",
       "      <td>44.761667</td>\n",
       "      <td>54.321485</td>\n",
       "      <td>49.424466</td>\n",
       "    </tr>\n",
       "    <tr>\n",
       "      <th>3</th>\n",
       "      <td>3.0</td>\n",
       "      <td>2.722971</td>\n",
       "      <td>3.047146</td>\n",
       "      <td>302.074974</td>\n",
       "      <td>94.534390</td>\n",
       "      <td>44.761667</td>\n",
       "      <td>49.013470</td>\n",
       "      <td>54.848628</td>\n",
       "    </tr>\n",
       "    <tr>\n",
       "      <th>4</th>\n",
       "      <td>4.0</td>\n",
       "      <td>3.077028</td>\n",
       "      <td>2.748602</td>\n",
       "      <td>81.536813</td>\n",
       "      <td>95.469124</td>\n",
       "      <td>44.761667</td>\n",
       "      <td>55.386509</td>\n",
       "      <td>49.474837</td>\n",
       "    </tr>\n",
       "    <tr>\n",
       "      <th>5</th>\n",
       "      <td>5.0</td>\n",
       "      <td>3.215425</td>\n",
       "      <td>2.772997</td>\n",
       "      <td>964.139559</td>\n",
       "      <td>297.156511</td>\n",
       "      <td>44.761667</td>\n",
       "      <td>57.877644</td>\n",
       "      <td>49.913954</td>\n",
       "    </tr>\n",
       "    <tr>\n",
       "      <th>6</th>\n",
       "      <td>6.0</td>\n",
       "      <td>3.168267</td>\n",
       "      <td>2.776261</td>\n",
       "      <td>743.747453</td>\n",
       "      <td>298.964619</td>\n",
       "      <td>44.761667</td>\n",
       "      <td>57.028808</td>\n",
       "      <td>49.972695</td>\n",
       "    </tr>\n",
       "    <tr>\n",
       "      <th>7</th>\n",
       "      <td>7.0</td>\n",
       "      <td>3.076096</td>\n",
       "      <td>2.738436</td>\n",
       "      <td>523.685135</td>\n",
       "      <td>300.373469</td>\n",
       "      <td>44.761667</td>\n",
       "      <td>55.369721</td>\n",
       "      <td>49.291854</td>\n",
       "    </tr>\n",
       "    <tr>\n",
       "      <th>8</th>\n",
       "      <td>8.0</td>\n",
       "      <td>3.196981</td>\n",
       "      <td>2.770661</td>\n",
       "      <td>303.826657</td>\n",
       "      <td>301.653051</td>\n",
       "      <td>44.761667</td>\n",
       "      <td>57.545658</td>\n",
       "      <td>49.871901</td>\n",
       "    </tr>\n",
       "    <tr>\n",
       "      <th>9</th>\n",
       "      <td>9.0</td>\n",
       "      <td>3.120583</td>\n",
       "      <td>2.743918</td>\n",
       "      <td>83.440631</td>\n",
       "      <td>302.676017</td>\n",
       "      <td>44.761667</td>\n",
       "      <td>56.170498</td>\n",
       "      <td>49.390525</td>\n",
       "    </tr>\n",
       "    <tr>\n",
       "      <th>10</th>\n",
       "      <td>10.0</td>\n",
       "      <td>3.227165</td>\n",
       "      <td>2.756686</td>\n",
       "      <td>965.550684</td>\n",
       "      <td>517.204312</td>\n",
       "      <td>44.761667</td>\n",
       "      <td>58.088972</td>\n",
       "      <td>49.620351</td>\n",
       "    </tr>\n",
       "    <tr>\n",
       "      <th>11</th>\n",
       "      <td>11.0</td>\n",
       "      <td>3.196465</td>\n",
       "      <td>2.806405</td>\n",
       "      <td>745.491294</td>\n",
       "      <td>518.482628</td>\n",
       "      <td>44.761667</td>\n",
       "      <td>57.536367</td>\n",
       "      <td>50.515284</td>\n",
       "    </tr>\n",
       "    <tr>\n",
       "      <th>12</th>\n",
       "      <td>12.0</td>\n",
       "      <td>3.079792</td>\n",
       "      <td>2.766896</td>\n",
       "      <td>525.320593</td>\n",
       "      <td>520.030707</td>\n",
       "      <td>44.761667</td>\n",
       "      <td>55.436253</td>\n",
       "      <td>49.804120</td>\n",
       "    </tr>\n",
       "    <tr>\n",
       "      <th>13</th>\n",
       "      <td>13.0</td>\n",
       "      <td>3.179303</td>\n",
       "      <td>2.762454</td>\n",
       "      <td>305.574246</td>\n",
       "      <td>521.216547</td>\n",
       "      <td>44.761667</td>\n",
       "      <td>57.227459</td>\n",
       "      <td>49.724164</td>\n",
       "    </tr>\n",
       "    <tr>\n",
       "      <th>14</th>\n",
       "      <td>14.0</td>\n",
       "      <td>2.740672</td>\n",
       "      <td>3.131077</td>\n",
       "      <td>85.206333</td>\n",
       "      <td>522.773713</td>\n",
       "      <td>44.761667</td>\n",
       "      <td>49.332096</td>\n",
       "      <td>56.359393</td>\n",
       "    </tr>\n",
       "    <tr>\n",
       "      <th>15</th>\n",
       "      <td>15.0</td>\n",
       "      <td>3.284344</td>\n",
       "      <td>2.809848</td>\n",
       "      <td>967.618995</td>\n",
       "      <td>737.015944</td>\n",
       "      <td>44.761667</td>\n",
       "      <td>59.118200</td>\n",
       "      <td>50.577273</td>\n",
       "    </tr>\n",
       "    <tr>\n",
       "      <th>16</th>\n",
       "      <td>16.0</td>\n",
       "      <td>2.786728</td>\n",
       "      <td>3.184176</td>\n",
       "      <td>746.594824</td>\n",
       "      <td>738.109363</td>\n",
       "      <td>44.761667</td>\n",
       "      <td>50.161099</td>\n",
       "      <td>57.315167</td>\n",
       "    </tr>\n",
       "    <tr>\n",
       "      <th>17</th>\n",
       "      <td>17.0</td>\n",
       "      <td>3.073858</td>\n",
       "      <td>2.750409</td>\n",
       "      <td>526.782400</td>\n",
       "      <td>739.333314</td>\n",
       "      <td>44.761667</td>\n",
       "      <td>55.329446</td>\n",
       "      <td>49.507357</td>\n",
       "    </tr>\n",
       "    <tr>\n",
       "      <th>18</th>\n",
       "      <td>18.0</td>\n",
       "      <td>2.768490</td>\n",
       "      <td>3.167888</td>\n",
       "      <td>306.827465</td>\n",
       "      <td>740.769402</td>\n",
       "      <td>44.761667</td>\n",
       "      <td>49.832817</td>\n",
       "      <td>57.021991</td>\n",
       "    </tr>\n",
       "    <tr>\n",
       "      <th>19</th>\n",
       "      <td>19.0</td>\n",
       "      <td>3.159435</td>\n",
       "      <td>2.749677</td>\n",
       "      <td>86.384590</td>\n",
       "      <td>742.331837</td>\n",
       "      <td>44.761667</td>\n",
       "      <td>56.869837</td>\n",
       "      <td>49.494189</td>\n",
       "    </tr>\n",
       "    <tr>\n",
       "      <th>20</th>\n",
       "      <td>20.0</td>\n",
       "      <td>2.787324</td>\n",
       "      <td>3.317892</td>\n",
       "      <td>968.758366</td>\n",
       "      <td>956.913513</td>\n",
       "      <td>44.761667</td>\n",
       "      <td>50.171824</td>\n",
       "      <td>59.722048</td>\n",
       "    </tr>\n",
       "    <tr>\n",
       "      <th>21</th>\n",
       "      <td>21.0</td>\n",
       "      <td>2.811189</td>\n",
       "      <td>3.121881</td>\n",
       "      <td>747.824623</td>\n",
       "      <td>957.905291</td>\n",
       "      <td>44.761667</td>\n",
       "      <td>50.601403</td>\n",
       "      <td>56.193865</td>\n",
       "    </tr>\n",
       "    <tr>\n",
       "      <th>22</th>\n",
       "      <td>22.0</td>\n",
       "      <td>2.760297</td>\n",
       "      <td>2.986091</td>\n",
       "      <td>527.282662</td>\n",
       "      <td>959.224629</td>\n",
       "      <td>44.761667</td>\n",
       "      <td>49.685346</td>\n",
       "      <td>53.749636</td>\n",
       "    </tr>\n",
       "    <tr>\n",
       "      <th>23</th>\n",
       "      <td>23.0</td>\n",
       "      <td>3.045871</td>\n",
       "      <td>2.751096</td>\n",
       "      <td>307.521386</td>\n",
       "      <td>960.715299</td>\n",
       "      <td>44.761667</td>\n",
       "      <td>54.825678</td>\n",
       "      <td>49.519725</td>\n",
       "    </tr>\n",
       "    <tr>\n",
       "      <th>24</th>\n",
       "      <td>24.0</td>\n",
       "      <td>3.073634</td>\n",
       "      <td>2.753525</td>\n",
       "      <td>86.568208</td>\n",
       "      <td>962.656221</td>\n",
       "      <td>44.761667</td>\n",
       "      <td>55.325413</td>\n",
       "      <td>49.563456</td>\n",
       "    </tr>\n",
       "  </tbody>\n",
       "</table>\n",
       "</div>"
      ],
      "text/plain": [
       "    spot number  fwhm_x_pix  fwhm_y_pix   x_pos_pix   y_pos_pix  fwhm_tbs_um  \\\n",
       "0           0.0    3.233162    2.767319  967.767200   89.914630    44.761667   \n",
       "1           1.0    3.126663    2.782082  742.533702   91.826000    44.761667   \n",
       "2           2.0    3.017860    2.745804  522.066152   93.428040    44.761667   \n",
       "3           3.0    2.722971    3.047146  302.074974   94.534390    44.761667   \n",
       "4           4.0    3.077028    2.748602   81.536813   95.469124    44.761667   \n",
       "5           5.0    3.215425    2.772997  964.139559  297.156511    44.761667   \n",
       "6           6.0    3.168267    2.776261  743.747453  298.964619    44.761667   \n",
       "7           7.0    3.076096    2.738436  523.685135  300.373469    44.761667   \n",
       "8           8.0    3.196981    2.770661  303.826657  301.653051    44.761667   \n",
       "9           9.0    3.120583    2.743918   83.440631  302.676017    44.761667   \n",
       "10         10.0    3.227165    2.756686  965.550684  517.204312    44.761667   \n",
       "11         11.0    3.196465    2.806405  745.491294  518.482628    44.761667   \n",
       "12         12.0    3.079792    2.766896  525.320593  520.030707    44.761667   \n",
       "13         13.0    3.179303    2.762454  305.574246  521.216547    44.761667   \n",
       "14         14.0    2.740672    3.131077   85.206333  522.773713    44.761667   \n",
       "15         15.0    3.284344    2.809848  967.618995  737.015944    44.761667   \n",
       "16         16.0    2.786728    3.184176  746.594824  738.109363    44.761667   \n",
       "17         17.0    3.073858    2.750409  526.782400  739.333314    44.761667   \n",
       "18         18.0    2.768490    3.167888  306.827465  740.769402    44.761667   \n",
       "19         19.0    3.159435    2.749677   86.384590  742.331837    44.761667   \n",
       "20         20.0    2.787324    3.317892  968.758366  956.913513    44.761667   \n",
       "21         21.0    2.811189    3.121881  747.824623  957.905291    44.761667   \n",
       "22         22.0    2.760297    2.986091  527.282662  959.224629    44.761667   \n",
       "23         23.0    3.045871    2.751096  307.521386  960.715299    44.761667   \n",
       "24         24.0    3.073634    2.753525   86.568208  962.656221    44.761667   \n",
       "\n",
       "    fwhm_x_um  fwhm_y_um  \n",
       "0   58.196908  49.811749  \n",
       "1   56.279934  50.077476  \n",
       "2   54.321485  49.424466  \n",
       "3   49.013470  54.848628  \n",
       "4   55.386509  49.474837  \n",
       "5   57.877644  49.913954  \n",
       "6   57.028808  49.972695  \n",
       "7   55.369721  49.291854  \n",
       "8   57.545658  49.871901  \n",
       "9   56.170498  49.390525  \n",
       "10  58.088972  49.620351  \n",
       "11  57.536367  50.515284  \n",
       "12  55.436253  49.804120  \n",
       "13  57.227459  49.724164  \n",
       "14  49.332096  56.359393  \n",
       "15  59.118200  50.577273  \n",
       "16  50.161099  57.315167  \n",
       "17  55.329446  49.507357  \n",
       "18  49.832817  57.021991  \n",
       "19  56.869837  49.494189  \n",
       "20  50.171824  59.722048  \n",
       "21  50.601403  56.193865  \n",
       "22  49.685346  53.749636  \n",
       "23  54.825678  49.519725  \n",
       "24  55.325413  49.563456  "
      ]
     },
     "execution_count": 5,
     "metadata": {},
     "output_type": "execute_result"
    }
   ],
   "source": [
    "df"
   ]
  },
  {
   "cell_type": "code",
   "execution_count": 4,
   "metadata": {},
   "outputs": [
    {
     "ename": "NameError",
     "evalue": "name 'FWHM_net' is not defined",
     "output_type": "error",
     "traceback": [
      "\u001b[0;31m---------------------------------------------------------------------------\u001b[0m",
      "\u001b[0;31mNameError\u001b[0m                                 Traceback (most recent call last)",
      "Cell \u001b[0;32mIn[4], line 3\u001b[0m\n\u001b[1;32m      1\u001b[0m \u001b[38;5;66;03m# FWHM_net ** 2 = FWHM_instrum ** 2 + FWHM_PSF ** 2, so \u001b[39;00m\n\u001b[0;32m----> 3\u001b[0m FWHM_PSF \u001b[38;5;241m=\u001b[39m np\u001b[38;5;241m.\u001b[39m sqrt( \u001b[43mFWHM_net\u001b[49m \u001b[38;5;241m*\u001b[39m\u001b[38;5;241m*\u001b[39m \u001b[38;5;241m2\u001b[39m \u001b[38;5;241m-\u001b[39m FWHM_instrum \u001b[38;5;241m*\u001b[39m\u001b[38;5;241m*\u001b[39m \u001b[38;5;241m2\u001b[39m )\n",
      "\u001b[0;31mNameError\u001b[0m: name 'FWHM_net' is not defined"
     ]
    }
   ],
   "source": [
    "# FWHM_net ** 2 = FWHM_instrum ** 2 + FWHM_PSF ** 2, so \n",
    "\n",
    "FWHM_PSF = np. sqrt( FWHM_net ** 2 - FWHM_instrum ** 2 )"
   ]
  },
  {
   "cell_type": "code",
   "execution_count": 16,
   "metadata": {},
   "outputs": [
    {
     "data": {
      "text/plain": [
       "Index(['spot number', 'fwhm_x_pix', 'fwhm_y_pix', 'x_pos_pix', 'y_pos_pix',\n",
       "       'fwhm_tbs_um', 'fwhm_x_um', 'fwhm_y_um', 'fwhm_avg_um'],\n",
       "      dtype='object')"
      ]
     },
     "execution_count": 16,
     "metadata": {},
     "output_type": "execute_result"
    }
   ],
   "source": [
    "df.keys()"
   ]
  },
  {
   "cell_type": "code",
   "execution_count": 5,
   "metadata": {},
   "outputs": [],
   "source": [
    "df['fwhm_avg_um'] = 0.5 * (df['fwhm_x_um'] + df['fwhm_y_um'])\n",
    "df['fwhm_avg_pix'] = 0.5 * (df['fwhm_x_pix'] + df['fwhm_y_pix'])"
   ]
  },
  {
   "cell_type": "code",
   "execution_count": 6,
   "metadata": {},
   "outputs": [
    {
     "data": {
      "text/plain": [
       "0     54.004329\n",
       "1     53.178705\n",
       "2     51.872975\n",
       "3     51.931049\n",
       "4     52.430673\n",
       "5     53.895799\n",
       "6     53.500751\n",
       "7     52.330788\n",
       "8     53.708780\n",
       "9     52.780512\n",
       "10    53.854661\n",
       "11    54.025826\n",
       "12    52.620187\n",
       "13    53.475812\n",
       "14    52.845744\n",
       "15    54.847736\n",
       "16    53.738133\n",
       "17    52.418402\n",
       "18    53.427404\n",
       "19    53.182013\n",
       "20    54.946936\n",
       "21    53.397634\n",
       "22    51.717491\n",
       "23    52.172702\n",
       "24    52.444434\n",
       "Name: fwhm_avg_um, dtype: float64"
      ]
     },
     "execution_count": 6,
     "metadata": {},
     "output_type": "execute_result"
    }
   ],
   "source": [
    "df['fwhm_avg_um']"
   ]
  },
  {
   "cell_type": "code",
   "execution_count": 18,
   "metadata": {},
   "outputs": [
    {
     "data": {
      "text/plain": [
       "0     3.000240\n",
       "1     2.954372\n",
       "2     2.881832\n",
       "3     2.885058\n",
       "4     2.912815\n",
       "5     2.994211\n",
       "6     2.972264\n",
       "7     2.907266\n",
       "8     2.983821\n",
       "9     2.932251\n",
       "10    2.991926\n",
       "11    3.001435\n",
       "12    2.923344\n",
       "13    2.970878\n",
       "14    2.935875\n",
       "15    3.047096\n",
       "16    2.985452\n",
       "17    2.912133\n",
       "18    2.968189\n",
       "19    2.954556\n",
       "20    3.052608\n",
       "21    2.966535\n",
       "22    2.873194\n",
       "23    2.898483\n",
       "24    2.913580\n",
       "Name: fwhm_avg_pix, dtype: float64"
      ]
     },
     "execution_count": 18,
     "metadata": {},
     "output_type": "execute_result"
    }
   ],
   "source": [
    "df['fwhm_avg_pix']"
   ]
  },
  {
   "cell_type": "code",
   "execution_count": 12,
   "metadata": {},
   "outputs": [],
   "source": [
    "# all in units of um\n",
    "\n",
    "# the true, diffraction-limited PSF after removal of TBS and camera magnification\n",
    "df['fwhm_true_um'] = np. sqrt( df['fwhm_avg_um'] ** 2 - df['fwhm_tbs_um'] ** 2 )\n",
    "df['strehl_approx'] = np.power( 30.40 / df['fwhm_true_um'], 2)"
   ]
  },
  {
   "cell_type": "code",
   "execution_count": 13,
   "metadata": {},
   "outputs": [
    {
     "data": {
      "text/plain": [
       "0     1.012378\n",
       "1     1.121053\n",
       "2     1.344822\n",
       "3     1.333128\n",
       "4     1.239870\n",
       "5     1.025534\n",
       "6     1.076202\n",
       "7     1.257524\n",
       "8     1.048959\n",
       "9     1.181525\n",
       "10    1.030603\n",
       "11    1.009809\n",
       "12    1.207615\n",
       "13    1.079556\n",
       "14    1.171208\n",
       "15    0.919867\n",
       "16    1.045217\n",
       "17    1.242014\n",
       "18    1.086122\n",
       "19    1.120575\n",
       "20    0.910001\n",
       "21    1.090196\n",
       "22    1.377099\n",
       "23    1.286443\n",
       "24    1.237474\n",
       "Name: strehl_approx, dtype: float64"
      ]
     },
     "execution_count": 13,
     "metadata": {},
     "output_type": "execute_result"
    }
   ],
   "source": [
    "df['strehl_approx']"
   ]
  },
  {
   "cell_type": "code",
   "execution_count": 7,
   "metadata": {},
   "outputs": [
    {
     "data": {
      "text/plain": [
       "0     37.192382\n",
       "1     34.114866\n",
       "2     30.776889\n",
       "3     19.967809\n",
       "4     32.619909\n",
       "5     36.690801\n",
       "6     35.336640\n",
       "7     32.591397\n",
       "8     36.164844\n",
       "9     33.934024\n",
       "10    37.023261\n",
       "11    36.150058\n",
       "12    32.704301\n",
       "13    35.656349\n",
       "14    20.737619\n",
       "15    38.618062\n",
       "16    22.639103\n",
       "17    32.522927\n",
       "18    21.902120\n",
       "19    35.079502\n",
       "20    22.662858\n",
       "21    23.598626\n",
       "22    21.564479\n",
       "23    31.658303\n",
       "24    32.516065\n",
       "dtype: float64"
      ]
     },
     "execution_count": 7,
     "metadata": {},
     "output_type": "execute_result"
    }
   ],
   "source": [
    "# what perfect PSF would we expect?\n",
    "\n",
    "# Airy diameter: r_Airy = 1.22 * (lambda/D) * F = 1.22 * lambda * F#\n",
    "# where F# = 29 for DIRAC. For Y-band, this would be\n",
    "# r_Airy = 1.22 * 1.02 um * 29 = 36.09 um = 36.09 um / (18 um/pix ) = 2.00 pixels\n",
    "\n",
    "# FWHM of an Airy function is approximately\n",
    "# FWHM_Airy = 1.028 * lambda/D \n",
    "# or r_Airy/FWHM_Airy = 1.187\n",
    "\n",
    "# Then, we expect FWHM_Airy = r_Airy / 1.187 = 30.40 um = 1.68 pixels\n",
    "\n",
    "lambda_Y_um = 1.02"
   ]
  },
  {
   "cell_type": "code",
   "execution_count": 9,
   "metadata": {},
   "outputs": [],
   "source": [
    "# approximate Strehls\n",
    "\n",
    "strehl = np.power( 30.40 / fwhm_true_um, 2)"
   ]
  },
  {
   "cell_type": "code",
   "execution_count": 11,
   "metadata": {},
   "outputs": [
    {
     "data": {
      "image/png": "[encoded data removed]",
      "text/plain": [
       "<Figure size 640x480 with 1 Axes>"
      ]
     },
     "metadata": {},
     "output_type": "display_data"
    }
   ],
   "source": [
    "plt.hist(strehl)\n",
    "plt.show()"
   ]
  },
  {
   "cell_type": "code",
   "execution_count": 22,
   "metadata": {},
   "outputs": [
    {
     "data": {
      "image/png": "[encoded data removed]",
      "text/plain": [
       "<Figure size 640x480 with 1 Axes>"
      ]
     },
     "metadata": {},
     "output_type": "display_data"
    }
   ],
   "source": [
    "# make a scatter plot of df['x_pos_pix'] and df['y_pos_pix'], where each point is labeled on the plot with the string df['fwhm_true_um'], with a small offset from the marker\n",
    "plt.scatter(df['x_pos_pix'], df['y_pos_pix'])\n",
    "for i, row in df.iterrows():\n",
    "    plt.text(row['x_pos_pix'], row['y_pos_pix'] + 10, f\"{row['fwhm_true_um']:.2f}\", ha='center', va='bottom', fontsize=8)\n",
    "plt.title('True FWHM (um), after removing effect of TBS\\n(Ideal is 30.40 um)' )\n",
    "plt.xlabel('x_pos_pix')\n",
    "plt.ylabel('y_pos_pix')\n",
    "plt.savefig('fwhm_plot_um.png')\n"
   ]
  },
  {
   "cell_type": "code",
   "execution_count": 26,
   "metadata": {},
   "outputs": [
    {
     "data": {
      "image/png": "[encoded data removed]",
      "text/plain": [
       "<Figure size 640x480 with 1 Axes>"
      ]
     },
     "metadata": {},
     "output_type": "display_data"
    }
   ],
   "source": [
    "# make a scatter plot of df['x_pos_pix'] and df['y_pos_pix'], where each point is labeled on the plot with the string df['fwhm_true_um'], with a small offset from the marker\n",
    "plt.scatter(df['x_pos_pix'], df['y_pos_pix'])\n",
    "for i, row in df.iterrows():\n",
    "    plt.text(row['x_pos_pix'], row['y_pos_pix'] + 10, f\"{row['strehl_approx']:.2f}\", ha='center', va='bottom', fontsize=8)\n",
    "plt.title('Approx. Strehl, after removing effect of TBS\\n(Perfect is 1.0)' )\n",
    "plt.xlabel('x_pos_pix')\n",
    "plt.ylabel('y_pos_pix')\n",
    "#plt.show()\n",
    "plt.savefig('fwhm_plot_strehl.png')"
   ]
  }
 ],
 "metadata": {
  "kernelspec": {
   "display_name": "dirac_env",
   "language": "python",
   "name": "python3"
  },
  "language_info": {
   "codemirror_mode": {
    "name": "ipython",
    "version": 3
   },
   "file_extension": ".py",
   "mimetype": "text/x-python",
   "name": "python",
   "nbconvert_exporter": "python",
   "pygments_lexer": "ipython3",
   "version": "3.8.13"
  }
 },
 "nbformat": 4,
 "nbformat_minor": 2
}
