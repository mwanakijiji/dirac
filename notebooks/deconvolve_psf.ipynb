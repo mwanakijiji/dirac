{
 "cells": [
  {
   "cell_type": "code",
   "execution_count": null,
   "metadata": {},
   "outputs": [],
   "source": [
    "# Deconvolves 2D psfs, to remove effect of collimator"
   ]
  },
  {
   "cell_type": "code",
   "execution_count": 12,
   "metadata": {},
   "outputs": [],
   "source": [
    "import numpy as np\n",
    "from scipy import signal\n",
    "from scipy.stats import norm\n",
    "import matplotlib.pyplot as plt"
   ]
  },
  {
   "cell_type": "code",
   "execution_count": null,
   "metadata": {},
   "outputs": [],
   "source": [
    "'''\n",
    "Email from RZ, 2024 04 12:\n",
    "\n",
    "Attached please find the spot diagram of your projector we assembled yesterday. The diamond turned off-axis parabola has astigmatism \n",
    "which was seen going in and out of focus and the resulting image has significant aberrations. FWHM is 6 pixels (5.2 micron each). \n",
    "This is certainly much over the diffraction limit which we would expected for a test beam which should be perfect to measure aberrations \n",
    "of the camera.\n",
    "\n",
    "The camera image quality may be evaluated with the projector if the measured and magnified spot size of the projector input is \n",
    "de-convolved from the camera image. I obtained much smaller spot through the camera with the PSF mask at the camera focus.\n",
    "\n",
    "The projector can be used for all other tests, in particular, field of view, repeatability etc. because we don’t care about PSF size \n",
    "and measure centroid on the detector only.\n",
    "'''"
   ]
  },
  {
   "cell_type": "code",
   "execution_count": 10,
   "metadata": {},
   "outputs": [],
   "source": [
    "def gaussian(x,x0,sigma):\n",
    "  return np.exp(-np.power((x - x0)/sigma, 2.)/2.)"
   ]
  },
  {
   "cell_type": "code",
   "execution_count": 14,
   "metadata": {},
   "outputs": [],
   "source": [
    "# fake signal\n",
    "abcissa_true_signal = np.linspace(0,100,101)\n",
    "# Create a Gaussian distribution based on abcissa_true_signal\n",
    "ordinate_true_signal = gaussian(abcissa_true_signal, x0=50, sigma=2)\n",
    "\n",
    "# impulse response\n",
    "ordinate_impulse_response = gaussian(abcissa_true_signal, x0=50, sigma=10)"
   ]
  },
  {
   "cell_type": "code",
   "execution_count": 13,
   "metadata": {},
   "outputs": [
    {
     "data": {
      "image/png": "[encoded data removed]",
      "text/plain": [
       "<Figure size 640x480 with 1 Axes>"
      ]
     },
     "metadata": {},
     "output_type": "display_data"
    }
   ],
   "source": [
    "plt.plot(abcissa_true_signal, ordinate_true_signal, label='true signal')\n",
    "plt.plot(abcissa_true_signal, ordinate_impulse_response, label='impulse response')\n",
    "#plt.plot(abcissa_true_signal, ordinate_impulse_response, label='convolved')\n",
    "#plt.plot(abcissa_true_signal, ordinate_impulse_response, label='deconvolved')\n",
    "plt.show()"
   ]
  },
  {
   "cell_type": "code",
   "execution_count": 8,
   "metadata": {},
   "outputs": [
    {
     "name": "stdout",
     "output_type": "stream",
     "text": [
      "[0 2 1 0 2 3 1 0 0]\n",
      "[0. 1. 0. 0. 1. 1. 0. 0.]\n"
     ]
    }
   ],
   "source": [
    "# ex.\n",
    "\n",
    "original = [0, 1, 0, 0, 1, 1, 0, 0]\n",
    "impulse_response = [2, 1]\n",
    "\n",
    "recorded = signal.convolve(impulse_response, original)\n",
    "print(recorded)\n",
    "\n",
    "\n",
    "recovered, remainder = signal.deconvolve(recorded, impulse_response)\n",
    "print(recovered)"
   ]
  },
  {
   "cell_type": "code",
   "execution_count": 7,
   "metadata": {},
   "outputs": [
    {
     "data": {
      "text/plain": [
       "array([  0.,   1.,   2.,   3.,   4.,   5.,   6.,   7.,   8.,   9.,  10.,\n",
       "        11.,  12.,  13.,  14.,  15.,  16.,  17.,  18.,  19.,  20.,  21.,\n",
       "        22.,  23.,  24.,  25.,  26.,  27.,  28.,  29.,  30.,  31.,  32.,\n",
       "        33.,  34.,  35.,  36.,  37.,  38.,  39.,  40.,  41.,  42.,  43.,\n",
       "        44.,  45.,  46.,  47.,  48.,  49.,  50.,  51.,  52.,  53.,  54.,\n",
       "        55.,  56.,  57.,  58.,  59.,  60.,  61.,  62.,  63.,  64.,  65.,\n",
       "        66.,  67.,  68.,  69.,  70.,  71.,  72.,  73.,  74.,  75.,  76.,\n",
       "        77.,  78.,  79.,  80.,  81.,  82.,  83.,  84.,  85.,  86.,  87.,\n",
       "        88.,  89.,  90.,  91.,  92.,  93.,  94.,  95.,  96.,  97.,  98.,\n",
       "        99., 100.])"
      ]
     },
     "execution_count": 7,
     "metadata": {},
     "output_type": "execute_result"
    }
   ],
   "source": [
    "abcissa"
   ]
  },
  {
   "cell_type": "code",
   "execution_count": null,
   "metadata": {},
   "outputs": [],
   "source": [
    "\n",
    "\n",
    "f, r = signal.deconvolve(s, s_f)"
   ]
  }
 ],
 "metadata": {
  "kernelspec": {
   "display_name": "py38",
   "language": "python",
   "name": "python3"
  },
  "language_info": {
   "codemirror_mode": {
    "name": "ipython",
    "version": 3
   },
   "file_extension": ".py",
   "mimetype": "text/x-python",
   "name": "python",
   "nbconvert_exporter": "python",
   "pygments_lexer": "ipython3",
   "version": "3.8.13"
  }
 },
 "nbformat": 4,
 "nbformat_minor": 2
}
