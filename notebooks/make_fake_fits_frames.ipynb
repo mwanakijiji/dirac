{
 "cells": [
  {
   "cell_type": "code",
   "execution_count": 1,
   "metadata": {},
   "outputs": [],
   "source": [
    "# Makes a fake FITS frame for testing generation of pixel scale, or for testing Strehl ratio code"
   ]
  },
  {
   "cell_type": "code",
   "execution_count": 1,
   "metadata": {},
   "outputs": [],
   "source": [
    "from astropy.io import fits\n",
    "import matplotlib.pyplot as plt\n",
    "import numpy as np\n",
    "from scipy.ndimage import gaussian_filter\n",
    "from astropy.io import fits"
   ]
  },
  {
   "cell_type": "code",
   "execution_count": null,
   "metadata": {},
   "outputs": [],
   "source": [
    "# Part 1: Inject Gaussians for pixel scale stuff"
   ]
  },
  {
   "cell_type": "code",
   "execution_count": 2,
   "metadata": {},
   "outputs": [],
   "source": [
    "fov = 33.2 # arcsec\n",
    "\n",
    "# coordinates (arbitrary scale) of stars in Fig. 2 of Close+ 2012\n",
    "coords_stars = {'D2': np.array([149, 401]), \n",
    "                'C2': np.array([507, 593]), \n",
    "                'B1': np.array([657, 104]), \n",
    "                'E1': np.array([822, 199]), \n",
    "                'A2': np.array([796, 328]), \n",
    "                'A1': np.array([798, 335])}"
   ]
  },
  {
   "cell_type": "code",
   "execution_count": 3,
   "metadata": {},
   "outputs": [],
   "source": [
    "def inject_gaussians(readout, coords, sigma):\n",
    "    x_coords, y_coords = np.meshgrid(np.arange(readout.shape[1]), np.arange(readout.shape[0]))\n",
    "    for key, value in coords.items():\n",
    "        x, y = value\n",
    "        gaussian = np.exp(-((x_coords - x)**2 + (y_coords - y)**2) / (2 * sigma**2))\n",
    "        readout += gaussian\n",
    "    return readout"
   ]
  },
  {
   "cell_type": "code",
   "execution_count": null,
   "metadata": {},
   "outputs": [],
   "source": [
    "readout = np.zeros((1016, 1016))"
   ]
  },
  {
   "cell_type": "code",
   "execution_count": 5,
   "metadata": {},
   "outputs": [],
   "source": [
    "_ = inject_gaussians(readout, coords=coords_stars, sigma=10)"
   ]
  },
  {
   "cell_type": "code",
   "execution_count": null,
   "metadata": {},
   "outputs": [],
   "source": [
    "plt.imshow(readout)\n",
    "plt.show()"
   ]
  },
  {
   "cell_type": "code",
   "execution_count": 8,
   "metadata": {},
   "outputs": [],
   "source": [
    "# Part 2: Inject Gaussians with different FWHM for Strehl ratio testing"
   ]
  },
  {
   "cell_type": "code",
   "execution_count": 5,
   "metadata": {},
   "outputs": [],
   "source": [
    "fov = 33.2 # arcsec\n",
    "\n",
    "# noisy coordinates (to test Strehl ratio code)\n",
    "coords_stars_noisy_1 = {'D2': np.array(np.random.normal((1, 2), scale=0.1) + [149, 401])}\n",
    "coords_stars_noisy_2 = {'C2': np.array(np.random.normal((1, 2), scale=0.1) + [507, 593])} \n",
    "coords_stars_noisy_3 = {'B1': np.array(np.random.normal((1, 2), scale=0.1) + [657, 104])} \n",
    "coords_stars_noisy_4 = {'E1': np.array(np.random.normal((1, 2), scale=0.1) + [822, 199])} \n",
    "coords_stars_noisy_5 = {'A2': np.array(np.random.normal((1, 2), scale=0.1) + [796, 328])} \n",
    "coords_stars_noisy_6 = {'A1': np.array(np.random.normal((1, 2), scale=0.1) + [800, 800])}"
   ]
  },
  {
   "cell_type": "code",
   "execution_count": 4,
   "metadata": {},
   "outputs": [
    {
     "name": "stdout",
     "output_type": "stream",
     "text": [
      "{'D2': array([149.94899385, 402.9166701 ])}\n",
      "{'C2': array([507.90924881, 594.91140539])}\n",
      "{'B1': array([658.37946568, 106.0045639 ])}\n",
      "{'E1': array([823.08359621, 201.05380537])}\n",
      "{'A2': array([797.07983878, 329.99888102])}\n",
      "{'A1': array([800.968366  , 802.11958826])}\n"
     ]
    }
   ],
   "source": [
    "# print those coordinates (letter codes don't matter)\n",
    "print(coords_stars_noisy_1)\n",
    "print(coords_stars_noisy_2)\n",
    "print(coords_stars_noisy_3)\n",
    "print(coords_stars_noisy_4)\n",
    "print(coords_stars_noisy_5)\n",
    "print(coords_stars_noisy_6)"
   ]
  },
  {
   "cell_type": "code",
   "execution_count": 2,
   "metadata": {},
   "outputs": [],
   "source": [
    "# What size FWHM do we need?\n",
    "\n",
    "'''\n",
    "FWHM_tot = sqrt( FWHM_TBS ** 2 + FWHM_DIRAC ** 2 )\n",
    "\n",
    "where \n",
    "\n",
    "FWHM_TBS = 44.76 um / ( 18 um/pix ) = 2.4867 pix\n",
    "FWHM_DIRAC = 30.40 um / ( 18 um/pix ) = 1.6889 pix\n",
    "\n",
    "So,\n",
    "\n",
    "FWHM_tot = 3.006\n",
    "\n",
    "If we want to inject spots with different strehls, \n",
    "\n",
    "FWHM_DIRAC,empirical = FWHM_DIRAC,perfect / sqrt(strehl)\n",
    "\n",
    "then the total thing we need to inject is\n",
    "\n",
    "FWHM_tot = sqrt( FWHM_TBS ** 2 + (FWHM_DIRAC,perfect ** 2) / strehl )\n",
    "'''\n",
    "\n",
    "fwhm_perfect = 3.006 # pix\n",
    "\n",
    "def fwhm_total_from_strehl(strehl, FWHM_TBS, FWHM_DIRAC_perfect):\n",
    "    # returns pixel FWHM of the TOTAL spot (i.e., includes effects of both TBS and DIRAC)\n",
    "    # (should all be in pixel space)\n",
    "\n",
    "    FWHM_tot = np.sqrt( FWHM_TBS ** 2 + (FWHM_DIRAC_perfect ** 2) / strehl )\n",
    "\n",
    "    return FWHM_tot\n",
    "\n",
    "fwhm_tot_1 = fwhm_total_from_strehl(strehl=1.0, FWHM_TBS = 2.4867, FWHM_DIRAC_perfect=1.6889)\n",
    "fwhm_tot_2 = fwhm_total_from_strehl(strehl=0.98, FWHM_TBS = 2.4867, FWHM_DIRAC_perfect=1.6889)\n",
    "fwhm_tot_3 = fwhm_total_from_strehl(strehl=0.96, FWHM_TBS = 2.4867, FWHM_DIRAC_perfect=1.6889)\n",
    "fwhm_tot_4 = fwhm_total_from_strehl(strehl=0.92, FWHM_TBS = 2.4867, FWHM_DIRAC_perfect=1.6889)\n",
    "fwhm_tot_5 = fwhm_total_from_strehl(strehl=0.85, FWHM_TBS = 2.4867, FWHM_DIRAC_perfect=1.6889)\n",
    "fwhm_tot_6 = fwhm_total_from_strehl(strehl=0.6, FWHM_TBS = 2.4867, FWHM_DIRAC_perfect=1.6889)"
   ]
  },
  {
   "cell_type": "code",
   "execution_count": 21,
   "metadata": {},
   "outputs": [
    {
     "name": "stdout",
     "output_type": "stream",
     "text": [
      "3.0060040086466953 3.01567106996849 3.0257080824852665 3.046981034172792 3.0885954482484714 3.3072116513260332\n"
     ]
    }
   ],
   "source": [
    "print(fwhm_tot_1, fwhm_tot_2, fwhm_tot_3, fwhm_tot_4, fwhm_tot_5, fwhm_tot_6)"
   ]
  },
  {
   "cell_type": "code",
   "execution_count": 6,
   "metadata": {},
   "outputs": [
    {
     "name": "stdout",
     "output_type": "stream",
     "text": [
      "Measured sigmas should be 1.2764331210191082\n"
     ]
    }
   ],
   "source": [
    "print('Measured sigmas should be',fwhm/2.355)"
   ]
  },
  {
   "cell_type": "code",
   "execution_count": 16,
   "metadata": {},
   "outputs": [],
   "source": [
    "def inject_gaussians_variable_strehl(readout, coords, sigma):\n",
    "    # makes Gaussians with different Strehl values\n",
    "    x_coords, y_coords = np.meshgrid(np.arange(readout.shape[1]), np.arange(readout.shape[0]))\n",
    "    for key, value in coords.items():\n",
    "        x, y = value\n",
    "        gaussian = np.exp(-((x_coords - x)**2 + (y_coords - y)**2) / (2 * sigma**2))\n",
    "        readout += gaussian\n",
    "\n",
    "        # normalize PSFs, to make them comparable with real data\n",
    "        readout /= np.max(readout)\n",
    "        readout *= 20000\n",
    "\n",
    "        # inject noise\n",
    "        readout += np.random.normal(scale=219., size=np.shape(readout))\n",
    "\n",
    "    return readout"
   ]
  },
  {
   "cell_type": "code",
   "execution_count": 11,
   "metadata": {},
   "outputs": [
    {
     "data": {
      "text/plain": [
       "(1024, 1024)"
      ]
     },
     "execution_count": 11,
     "metadata": {},
     "output_type": "execute_result"
    }
   ],
   "source": [
    "np.shape(readout)"
   ]
  },
  {
   "cell_type": "code",
   "execution_count": 22,
   "metadata": {},
   "outputs": [],
   "source": [
    "readout = np.zeros((1024, 1024))\n",
    "\n",
    "#_ = inject_gaussians_variable_strehl(readout, coords=coords_stars_noisy_6, sigma=fwhm_perfect/2.355)\n",
    "_ = inject_gaussians_variable_strehl(readout, coords=coords_stars_noisy_5, sigma=fwhm_tot_5/2.355)\n",
    "\n",
    "# Create a FITS HDU from the readout array\n",
    "hdu = fits.PrimaryHDU(readout)\n",
    "\n",
    "# Save the FITS file\n",
    "hdu.writeto('junk_strehl_ratio_testing_readout_5.fits', overwrite=True)"
   ]
  },
  {
   "cell_type": "code",
   "execution_count": 14,
   "metadata": {},
   "outputs": [
    {
     "data": {
      "image/png": "[encoded data removed]",
      "text/plain": [
       "<Figure size 640x480 with 1 Axes>"
      ]
     },
     "metadata": {},
     "output_type": "display_data"
    }
   ],
   "source": [
    "plt.clf()\n",
    "plt.imshow(readout)\n",
    "plt.show()"
   ]
  },
  {
   "cell_type": "code",
   "execution_count": 26,
   "metadata": {},
   "outputs": [],
   "source": [
    "# Create a FITS HDU from the readout array\n",
    "hdu = fits.PrimaryHDU(readout)\n",
    "\n",
    "# Save the FITS file\n",
    "hdu.writeto('junk_strehl_ratio_testing_readout_3.fits', overwrite=True)"
   ]
  },
  {
   "cell_type": "code",
   "execution_count": 13,
   "metadata": {},
   "outputs": [],
   "source": [
    "# fake darks\n",
    "\n",
    "readout_dark = np.zeros((1024, 1024))\n",
    "hdu = fits.PrimaryHDU(readout_dark)\n",
    "hdu.writeto('junk_dark.fits', overwrite=True)"
   ]
  },
  {
   "cell_type": "code",
   "execution_count": 34,
   "metadata": {},
   "outputs": [
    {
     "name": "stdout",
     "output_type": "stream",
     "text": [
      "219.31102124314228\n"
     ]
    }
   ],
   "source": [
    "# read in a real frame and measure the noise\n",
    "fits_file = '/Users/bandari/Documents/git.repos/dirac/vtp_scripts_data/nirao_14_image_quality/data/20240710/DIRAC_20240710_103844.fits'\n",
    "data = fits.getdata(fits_file)\n",
    "\n",
    "# find the median in a 100x100 region\n",
    "stdev_frame = np.std(data[100:200, 100:200])\n",
    "\n",
    "print(stdev_frame)"
   ]
  }
 ],
 "metadata": {
  "kernelspec": {
   "display_name": "py38",
   "language": "python",
   "name": "python3"
  },
  "language_info": {
   "codemirror_mode": {
    "name": "ipython",
    "version": 3
   },
   "file_extension": ".py",
   "mimetype": "text/x-python",
   "name": "python",
   "nbconvert_exporter": "python",
   "pygments_lexer": "ipython3",
   "version": "3.8.13"
  }
 },
 "nbformat": 4,
 "nbformat_minor": 2
}
